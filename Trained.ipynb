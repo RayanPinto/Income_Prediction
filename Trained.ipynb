{
 "cells": [
  {
   "cell_type": "code",
   "execution_count": 1,
   "metadata": {
    "colab": {},
    "colab_type": "code",
    "id": "zaazInikMFxY"
   },
   "outputs": [],
   "source": [
    "import numpy as np\n",
    "import pandas as pd"
   ]
  },
  {
   "cell_type": "code",
   "execution_count": 2,
   "metadata": {
    "colab": {},
    "colab_type": "code",
    "id": "X0wBshThMQuu"
   },
   "outputs": [],
   "source": [
    "dataset=pd.read_csv('adult.csv',header=None)\n",
    "x=dataset.iloc[:,:-1].values\n",
    "y=dataset.iloc[:,-1].values"
   ]
  },
  {
   "cell_type": "code",
   "execution_count": 22,
   "metadata": {},
   "outputs": [
    {
     "name": "stdout",
     "output_type": "stream",
     "text": [
      "Index([0, 1, 2, 3, 4, 5, 6, 7, 8, 9, 10, 11, 12, 13, 14], dtype='int64')\n"
     ]
    }
   ],
   "source": [
    "print(dataset.columns)\n"
   ]
  },
  {
   "cell_type": "code",
   "execution_count": 3,
   "metadata": {
    "colab": {
     "base_uri": "https://localhost:8080/",
     "height": 136
    },
    "colab_type": "code",
    "id": "XaaWnUZ1MWD0",
    "outputId": "423e056a-a032-415c-b3a3-293b45af2340"
   },
   "outputs": [
    {
     "name": "stdout",
     "output_type": "stream",
     "text": [
      "[[39 ' State-gov' 77516 ... 0 40 ' United-States']\n",
      " [50 ' Self-emp-not-inc' 83311 ... 0 13 ' United-States']\n",
      " [38 ' Private' 215646 ... 0 40 ' United-States']\n",
      " ...\n",
      " [58 ' Private' 151910 ... 0 40 ' United-States']\n",
      " [22 ' Private' 201490 ... 0 20 ' United-States']\n",
      " [52 ' Self-emp-inc' 287927 ... 0 40 ' United-States']]\n"
     ]
    }
   ],
   "source": [
    "print(x)"
   ]
  },
  {
   "cell_type": "code",
   "execution_count": 4,
   "metadata": {
    "colab": {},
    "colab_type": "code",
    "id": "OLlIw8sOMaS2"
   },
   "outputs": [],
   "source": [
    "from sklearn.impute import SimpleImputer\n",
    "imputer=SimpleImputer(missing_values=np.nan,strategy='most_frequent')\n",
    "imputer.fit(x[:,1:])\n",
    "x[:,1:]=imputer.transform(x[:,1:])"
   ]
  },
  {
   "cell_type": "code",
   "execution_count": 5,
   "metadata": {
    "colab": {},
    "colab_type": "code",
    "id": "Z1Xyvgh1aHi9"
   },
   "outputs": [],
   "source": [
    "from sklearn.preprocessing import LabelEncoder\n",
    "le1=LabelEncoder()\n",
    "le3=LabelEncoder()\n",
    "le5=LabelEncoder()\n",
    "le6=LabelEncoder()\n",
    "le7=LabelEncoder()\n",
    "le8=LabelEncoder()\n",
    "le9=LabelEncoder()\n",
    "le13=LabelEncoder()\n",
    "le=LabelEncoder()\n",
    "x[:,1]=le1.fit_transform(x[:,1])\n",
    "x[:,3]=le3.fit_transform(x[:,3])\n",
    "x[:,5]=le5.fit_transform(x[:,5])\n",
    "x[:,6]=le6.fit_transform(x[:,6])\n",
    "x[:,7]=le7.fit_transform(x[:,7])\n",
    "x[:,8]=le8.fit_transform(x[:,8])\n",
    "x[:,9]=le9.fit_transform(x[:,9])\n",
    "x[:,13]=le13.fit_transform(x[:,13])\n",
    "y=le.fit_transform(y)"
   ]
  },
  {
   "cell_type": "code",
   "execution_count": 6,
   "metadata": {
    "colab": {
     "base_uri": "https://localhost:8080/",
     "height": 136
    },
    "colab_type": "code",
    "id": "lP9-WLzcblgT",
    "outputId": "7d627728-97e6-4486-a006-81f5e0d8fdf4"
   },
   "outputs": [
    {
     "name": "stdout",
     "output_type": "stream",
     "text": [
      "[[39 7 77516 ... 0 40 39]\n",
      " [50 6 83311 ... 0 13 39]\n",
      " [38 4 215646 ... 0 40 39]\n",
      " ...\n",
      " [58 4 151910 ... 0 40 39]\n",
      " [22 4 201490 ... 0 20 39]\n",
      " [52 5 287927 ... 0 40 39]]\n"
     ]
    }
   ],
   "source": [
    "print(x)"
   ]
  },
  {
   "cell_type": "code",
   "execution_count": 7,
   "metadata": {
    "colab": {
     "base_uri": "https://localhost:8080/",
     "height": 34
    },
    "colab_type": "code",
    "id": "53Jpug6EbnFa",
    "outputId": "c14796e0-4c8c-466d-b9fa-9a028a8fe46d"
   },
   "outputs": [
    {
     "name": "stdout",
     "output_type": "stream",
     "text": [
      "[0 0 0 ... 0 0 1]\n"
     ]
    }
   ],
   "source": [
    "print(y)"
   ]
  },
  {
   "cell_type": "code",
   "execution_count": 8,
   "metadata": {
    "colab": {},
    "colab_type": "code",
    "id": "P2THzQtRbssv"
   },
   "outputs": [],
   "source": [
    "from sklearn.model_selection import train_test_split\n",
    "X_train,X_test,Y_train,Y_test=train_test_split(x,y,test_size=0.2,random_state=0)"
   ]
  },
  {
   "cell_type": "code",
   "execution_count": 9,
   "metadata": {
    "colab": {},
    "colab_type": "code",
    "id": "Y3R6dX0ec8dj"
   },
   "outputs": [],
   "source": [
    "from sklearn.preprocessing import StandardScaler\n",
    "sc=StandardScaler()\n",
    "X_train=sc.fit_transform(X_train)\n",
    "X_test=sc.transform(X_test)"
   ]
  },
  {
   "cell_type": "code",
   "execution_count": 12,
   "metadata": {},
   "outputs": [
    {
     "name": "stdout",
     "output_type": "stream",
     "text": [
      "Note: you may need to restart the kernel to use updated packages.\n"
     ]
    },
    {
     "name": "stderr",
     "output_type": "stream",
     "text": [
      "\n",
      "[notice] A new release of pip is available: 24.3.1 -> 25.1.1\n",
      "[notice] To update, run: python.exe -m pip install --upgrade pip\n"
     ]
    },
    {
     "name": "stdout",
     "output_type": "stream",
     "text": [
      "Defaulting to user installation because normal site-packages is not writeable\n",
      "Collecting xgboost\n",
      "  Downloading xgboost-3.0.2-py3-none-win_amd64.whl.metadata (2.1 kB)\n",
      "Requirement already satisfied: numpy in c:\\users\\rayan\\appdata\\roaming\\python\\python312\\site-packages (from xgboost) (2.0.2)\n",
      "Requirement already satisfied: scipy in c:\\users\\rayan\\appdata\\roaming\\python\\python312\\site-packages (from xgboost) (1.13.1)\n",
      "Downloading xgboost-3.0.2-py3-none-win_amd64.whl (150.0 MB)\n",
      "   ---------------------------------------- 0.0/150.0 MB ? eta -:--:--\n",
      "   ---------------------------------------- 0.0/150.0 MB ? eta -:--:--\n",
      "   ---------------------------------------- 0.0/150.0 MB ? eta -:--:--\n",
      "   ---------------------------------------- 0.0/150.0 MB ? eta -:--:--\n",
      "   ---------------------------------------- 0.0/150.0 MB ? eta -:--:--\n",
      "   ---------------------------------------- 0.3/150.0 MB ? eta -:--:--\n",
      "   ---------------------------------------- 0.5/150.0 MB 2.4 MB/s eta 0:01:03\n",
      "   ---------------------------------------- 1.0/150.0 MB 2.2 MB/s eta 0:01:09\n",
      "    --------------------------------------- 2.1/150.0 MB 2.9 MB/s eta 0:00:51\n",
      "    --------------------------------------- 2.6/150.0 MB 3.1 MB/s eta 0:00:48\n",
      "    --------------------------------------- 2.6/150.0 MB 3.1 MB/s eta 0:00:48\n",
      "    --------------------------------------- 2.6/150.0 MB 3.1 MB/s eta 0:00:48\n",
      "    --------------------------------------- 2.6/150.0 MB 3.1 MB/s eta 0:00:48\n",
      "    --------------------------------------- 2.6/150.0 MB 3.1 MB/s eta 0:00:48\n",
      "   - -------------------------------------- 4.2/150.0 MB 2.3 MB/s eta 0:01:05\n",
      "   - -------------------------------------- 5.2/150.0 MB 2.3 MB/s eta 0:01:02\n",
      "   - -------------------------------------- 6.0/150.0 MB 2.4 MB/s eta 0:00:59\n",
      "   - -------------------------------------- 6.8/150.0 MB 2.6 MB/s eta 0:00:56\n",
      "   -- ------------------------------------- 7.9/150.0 MB 2.7 MB/s eta 0:00:52\n",
      "   -- ------------------------------------- 7.9/150.0 MB 2.7 MB/s eta 0:00:52\n",
      "   -- ------------------------------------- 7.9/150.0 MB 2.7 MB/s eta 0:00:52\n",
      "   -- ------------------------------------- 9.7/150.0 MB 2.7 MB/s eta 0:00:52\n",
      "   -- ------------------------------------- 9.7/150.0 MB 2.7 MB/s eta 0:00:52\n",
      "   --- ------------------------------------ 11.5/150.0 MB 3.0 MB/s eta 0:00:47\n",
      "   --- ------------------------------------ 11.5/150.0 MB 3.0 MB/s eta 0:00:47\n",
      "   --- ------------------------------------ 11.5/150.0 MB 3.0 MB/s eta 0:00:47\n",
      "   --- ------------------------------------ 14.7/150.0 MB 3.2 MB/s eta 0:00:42\n",
      "   ---- ----------------------------------- 15.2/150.0 MB 3.2 MB/s eta 0:00:43\n",
      "   ---- ----------------------------------- 15.7/150.0 MB 3.2 MB/s eta 0:00:42\n",
      "   ---- ----------------------------------- 15.7/150.0 MB 3.2 MB/s eta 0:00:42\n",
      "   ---- ----------------------------------- 15.7/150.0 MB 3.2 MB/s eta 0:00:42\n",
      "   ---- ----------------------------------- 15.7/150.0 MB 3.2 MB/s eta 0:00:42\n",
      "   ---- ----------------------------------- 17.6/150.0 MB 3.0 MB/s eta 0:00:45\n",
      "   ---- ----------------------------------- 17.6/150.0 MB 3.0 MB/s eta 0:00:45\n",
      "   ----- ---------------------------------- 19.7/150.0 MB 3.1 MB/s eta 0:00:42\n",
      "   ----- ---------------------------------- 21.0/150.0 MB 3.2 MB/s eta 0:00:41\n",
      "   ----- ---------------------------------- 22.3/150.0 MB 3.3 MB/s eta 0:00:39\n",
      "   ------ --------------------------------- 23.3/150.0 MB 3.4 MB/s eta 0:00:38\n",
      "   ------ --------------------------------- 24.4/150.0 MB 3.4 MB/s eta 0:00:37\n",
      "   ------ --------------------------------- 24.4/150.0 MB 3.4 MB/s eta 0:00:37\n",
      "   ------ --------------------------------- 24.4/150.0 MB 3.4 MB/s eta 0:00:37\n",
      "   ------- -------------------------------- 27.3/150.0 MB 3.5 MB/s eta 0:00:36\n",
      "   ------- -------------------------------- 28.3/150.0 MB 3.5 MB/s eta 0:00:35\n",
      "   ------- -------------------------------- 29.4/150.0 MB 3.6 MB/s eta 0:00:34\n",
      "   -------- ------------------------------- 30.4/150.0 MB 3.6 MB/s eta 0:00:34\n",
      "   -------- ------------------------------- 31.5/150.0 MB 3.6 MB/s eta 0:00:33\n",
      "   -------- ------------------------------- 32.5/150.0 MB 3.7 MB/s eta 0:00:33\n",
      "   -------- ------------------------------- 33.6/150.0 MB 3.7 MB/s eta 0:00:32\n",
      "   --------- ------------------------------ 34.9/150.0 MB 3.7 MB/s eta 0:00:31\n",
      "   --------- ------------------------------ 35.9/150.0 MB 3.8 MB/s eta 0:00:31\n",
      "   --------- ------------------------------ 36.4/150.0 MB 3.8 MB/s eta 0:00:31\n",
      "   --------- ------------------------------ 37.0/150.0 MB 3.7 MB/s eta 0:00:31\n",
      "   --------- ------------------------------ 37.0/150.0 MB 3.7 MB/s eta 0:00:31\n",
      "   --------- ------------------------------ 37.0/150.0 MB 3.7 MB/s eta 0:00:31\n",
      "   --------- ------------------------------ 37.0/150.0 MB 3.7 MB/s eta 0:00:31\n",
      "   --------- ------------------------------ 37.0/150.0 MB 3.7 MB/s eta 0:00:31\n",
      "   --------- ------------------------------ 37.2/150.0 MB 3.4 MB/s eta 0:00:34\n",
      "   --------- ------------------------------ 37.2/150.0 MB 3.4 MB/s eta 0:00:34\n",
      "   ---------- ----------------------------- 38.5/150.0 MB 3.4 MB/s eta 0:00:34\n",
      "   ---------- ----------------------------- 39.3/150.0 MB 3.4 MB/s eta 0:00:33\n",
      "   ---------- ----------------------------- 39.3/150.0 MB 3.4 MB/s eta 0:00:33\n",
      "   ----------- ---------------------------- 41.9/150.0 MB 3.5 MB/s eta 0:00:32\n",
      "   ----------- ---------------------------- 43.0/150.0 MB 3.5 MB/s eta 0:00:31\n",
      "   ----------- ---------------------------- 44.3/150.0 MB 3.5 MB/s eta 0:00:30\n",
      "   ------------ --------------------------- 45.6/150.0 MB 3.6 MB/s eta 0:00:30\n",
      "   ------------ --------------------------- 46.7/150.0 MB 3.6 MB/s eta 0:00:29\n",
      "   ------------ --------------------------- 47.7/150.0 MB 3.6 MB/s eta 0:00:29\n",
      "   ------------ --------------------------- 47.7/150.0 MB 3.6 MB/s eta 0:00:29\n",
      "   ------------ --------------------------- 48.5/150.0 MB 3.6 MB/s eta 0:00:29\n",
      "   ------------- -------------------------- 51.1/150.0 MB 3.7 MB/s eta 0:00:27\n",
      "   ------------- -------------------------- 51.9/150.0 MB 3.7 MB/s eta 0:00:27\n",
      "   ------------- -------------------------- 51.9/150.0 MB 3.7 MB/s eta 0:00:27\n",
      "   ------------- -------------------------- 51.9/150.0 MB 3.7 MB/s eta 0:00:27\n",
      "   ------------- -------------------------- 51.9/150.0 MB 3.7 MB/s eta 0:00:27\n",
      "   ------------- -------------------------- 51.9/150.0 MB 3.7 MB/s eta 0:00:27\n",
      "   ------------- -------------------------- 51.9/150.0 MB 3.7 MB/s eta 0:00:27\n",
      "   --------------- ------------------------ 56.4/150.0 MB 3.7 MB/s eta 0:00:26\n",
      "   --------------- ------------------------ 58.2/150.0 MB 3.8 MB/s eta 0:00:25\n",
      "   --------------- ------------------------ 58.2/150.0 MB 3.8 MB/s eta 0:00:25\n",
      "   ---------------- ----------------------- 60.3/150.0 MB 3.8 MB/s eta 0:00:24\n",
      "   ---------------- ----------------------- 61.1/150.0 MB 3.8 MB/s eta 0:00:24\n",
      "   ---------------- ----------------------- 62.1/150.0 MB 3.8 MB/s eta 0:00:24\n",
      "   ---------------- ----------------------- 62.1/150.0 MB 3.8 MB/s eta 0:00:24\n",
      "   ----------------- ---------------------- 65.0/150.0 MB 3.9 MB/s eta 0:00:22\n",
      "   ----------------- ---------------------- 66.6/150.0 MB 3.9 MB/s eta 0:00:22\n",
      "   ------------------ --------------------- 67.9/150.0 MB 3.9 MB/s eta 0:00:21\n",
      "   ------------------ --------------------- 67.9/150.0 MB 3.9 MB/s eta 0:00:21\n",
      "   ------------------ --------------------- 67.9/150.0 MB 3.9 MB/s eta 0:00:21\n",
      "   ------------------ --------------------- 67.9/150.0 MB 3.9 MB/s eta 0:00:21\n",
      "   ------------------ --------------------- 70.0/150.0 MB 3.9 MB/s eta 0:00:21\n",
      "   ------------------ --------------------- 70.0/150.0 MB 3.9 MB/s eta 0:00:21\n",
      "   ------------------ --------------------- 70.3/150.0 MB 3.8 MB/s eta 0:00:21\n",
      "   ------------------ --------------------- 70.3/150.0 MB 3.8 MB/s eta 0:00:21\n",
      "   -------------------- ------------------- 76.5/150.0 MB 4.0 MB/s eta 0:00:19\n",
      "   -------------------- ------------------- 77.3/150.0 MB 4.0 MB/s eta 0:00:18\n",
      "   -------------------- ------------------- 77.3/150.0 MB 4.0 MB/s eta 0:00:18\n",
      "   -------------------- ------------------- 77.3/150.0 MB 4.0 MB/s eta 0:00:18\n",
      "   -------------------- ------------------- 77.3/150.0 MB 4.0 MB/s eta 0:00:18\n",
      "   -------------------- ------------------- 77.3/150.0 MB 4.0 MB/s eta 0:00:18\n",
      "   --------------------- ------------------ 80.2/150.0 MB 3.9 MB/s eta 0:00:18\n",
      "   ---------------------- ----------------- 83.4/150.0 MB 4.1 MB/s eta 0:00:17\n",
      "   ---------------------- ----------------- 83.4/150.0 MB 4.1 MB/s eta 0:00:17\n",
      "   ---------------------- ----------------- 83.4/150.0 MB 4.1 MB/s eta 0:00:17\n",
      "   ---------------------- ----------------- 84.1/150.0 MB 4.0 MB/s eta 0:00:17\n",
      "   ---------------------- ----------------- 85.7/150.0 MB 4.0 MB/s eta 0:00:16\n",
      "   ----------------------- ---------------- 86.2/150.0 MB 4.0 MB/s eta 0:00:16\n",
      "   ----------------------- ---------------- 86.2/150.0 MB 4.0 MB/s eta 0:00:16\n",
      "   ----------------------- ---------------- 86.2/150.0 MB 4.0 MB/s eta 0:00:16\n",
      "   ----------------------- ---------------- 86.2/150.0 MB 4.0 MB/s eta 0:00:16\n",
      "   ----------------------- ---------------- 86.2/150.0 MB 4.0 MB/s eta 0:00:16\n",
      "   ----------------------- ---------------- 86.2/150.0 MB 4.0 MB/s eta 0:00:16\n",
      "   ----------------------- ---------------- 86.2/150.0 MB 4.0 MB/s eta 0:00:16\n",
      "   ----------------------- ---------------- 86.5/150.0 MB 3.7 MB/s eta 0:00:17\n",
      "   ------------------------ --------------- 93.6/150.0 MB 4.0 MB/s eta 0:00:15\n",
      "   ------------------------ --------------- 93.6/150.0 MB 4.0 MB/s eta 0:00:15\n",
      "   ------------------------ --------------- 93.6/150.0 MB 4.0 MB/s eta 0:00:15\n",
      "   ------------------------ --------------- 93.6/150.0 MB 4.0 MB/s eta 0:00:15\n",
      "   ------------------------ --------------- 93.6/150.0 MB 4.0 MB/s eta 0:00:15\n",
      "   ------------------------ --------------- 93.6/150.0 MB 4.0 MB/s eta 0:00:15\n",
      "   ------------------------ --------------- 93.6/150.0 MB 4.0 MB/s eta 0:00:15\n",
      "   ------------------------ --------------- 93.6/150.0 MB 4.0 MB/s eta 0:00:15\n",
      "   ------------------------ --------------- 93.6/150.0 MB 4.0 MB/s eta 0:00:15\n",
      "   ------------------------ --------------- 93.6/150.0 MB 4.0 MB/s eta 0:00:15\n",
      "   ------------------------ --------------- 93.6/150.0 MB 4.0 MB/s eta 0:00:15\n",
      "   ------------------------- -------------- 95.7/150.0 MB 3.7 MB/s eta 0:00:15\n",
      "   ------------------------- -------------- 97.0/150.0 MB 3.7 MB/s eta 0:00:15\n",
      "   -------------------------- ------------- 97.5/150.0 MB 3.7 MB/s eta 0:00:15\n",
      "   -------------------------- ------------- 98.6/150.0 MB 3.7 MB/s eta 0:00:14\n",
      "   -------------------------- ------------- 99.1/150.0 MB 3.7 MB/s eta 0:00:14\n",
      "   -------------------------- ------------- 99.1/150.0 MB 3.7 MB/s eta 0:00:14\n",
      "   -------------------------- ------------- 99.1/150.0 MB 3.7 MB/s eta 0:00:14\n",
      "   -------------------------- ------------- 100.4/150.0 MB 3.7 MB/s eta 0:00:14\n",
      "   --------------------------- ------------ 102.5/150.0 MB 3.7 MB/s eta 0:00:13\n",
      "   ---------------------------- ----------- 105.1/150.0 MB 3.8 MB/s eta 0:00:12\n",
      "   ---------------------------- ----------- 105.1/150.0 MB 3.8 MB/s eta 0:00:12\n",
      "   ---------------------------- ----------- 106.2/150.0 MB 3.8 MB/s eta 0:00:12\n",
      "   ---------------------------- ----------- 106.2/150.0 MB 3.8 MB/s eta 0:00:12\n",
      "   ----------------------------- ---------- 109.3/150.0 MB 3.8 MB/s eta 0:00:11\n",
      "   ----------------------------- ---------- 109.8/150.0 MB 3.8 MB/s eta 0:00:11\n",
      "   ----------------------------- ---------- 109.8/150.0 MB 3.8 MB/s eta 0:00:11\n",
      "   ----------------------------- ---------- 109.8/150.0 MB 3.8 MB/s eta 0:00:11\n",
      "   ----------------------------- ---------- 109.8/150.0 MB 3.8 MB/s eta 0:00:11\n",
      "   ----------------------------- ---------- 109.8/150.0 MB 3.8 MB/s eta 0:00:11\n",
      "   ----------------------------- ---------- 110.1/150.0 MB 3.7 MB/s eta 0:00:11\n",
      "   ------------------------------ --------- 115.3/150.0 MB 3.8 MB/s eta 0:00:10\n",
      "   ------------------------------- -------- 116.4/150.0 MB 3.9 MB/s eta 0:00:09\n",
      "   ------------------------------- -------- 116.9/150.0 MB 3.9 MB/s eta 0:00:09\n",
      "   ------------------------------- -------- 116.9/150.0 MB 3.9 MB/s eta 0:00:09\n",
      "   ------------------------------- -------- 116.9/150.0 MB 3.9 MB/s eta 0:00:09\n",
      "   ------------------------------- -------- 116.9/150.0 MB 3.9 MB/s eta 0:00:09\n",
      "   ------------------------------- -------- 116.9/150.0 MB 3.9 MB/s eta 0:00:09\n",
      "   ------------------------------- -------- 118.0/150.0 MB 3.9 MB/s eta 0:00:09\n",
      "   ------------------------------- -------- 118.0/150.0 MB 3.9 MB/s eta 0:00:09\n",
      "   -------------------------------- ------- 123.2/150.0 MB 4.0 MB/s eta 0:00:07\n",
      "   -------------------------------- ------- 123.5/150.0 MB 4.0 MB/s eta 0:00:07\n",
      "   -------------------------------- ------- 123.5/150.0 MB 4.0 MB/s eta 0:00:07\n",
      "   --------------------------------- ------ 125.0/150.0 MB 3.9 MB/s eta 0:00:07\n",
      "   ---------------------------------- ----- 127.7/150.0 MB 4.0 MB/s eta 0:00:06\n",
      "   ---------------------------------- ----- 129.2/150.0 MB 4.1 MB/s eta 0:00:06\n",
      "   ---------------------------------- ----- 130.0/150.0 MB 4.1 MB/s eta 0:00:05\n",
      "   ----------------------------------- ---- 131.6/150.0 MB 4.1 MB/s eta 0:00:05\n",
      "   ----------------------------------- ---- 131.9/150.0 MB 4.1 MB/s eta 0:00:05\n",
      "   ----------------------------------- ---- 131.9/150.0 MB 4.1 MB/s eta 0:00:05\n",
      "   ----------------------------------- ---- 132.1/150.0 MB 4.1 MB/s eta 0:00:05\n",
      "   ----------------------------------- ---- 132.1/150.0 MB 4.1 MB/s eta 0:00:05\n",
      "   ----------------------------------- ---- 132.1/150.0 MB 4.1 MB/s eta 0:00:05\n",
      "   ----------------------------------- ---- 134.5/150.0 MB 4.0 MB/s eta 0:00:04\n",
      "   ------------------------------------ --- 136.1/150.0 MB 4.0 MB/s eta 0:00:04\n",
      "   ------------------------------------ --- 136.1/150.0 MB 4.0 MB/s eta 0:00:04\n",
      "   ------------------------------------ --- 137.4/150.0 MB 4.1 MB/s eta 0:00:04\n",
      "   ------------------------------------ --- 137.4/150.0 MB 4.1 MB/s eta 0:00:04\n",
      "   ------------------------------------ --- 137.4/150.0 MB 4.1 MB/s eta 0:00:04\n",
      "   ------------------------------------ --- 137.4/150.0 MB 4.1 MB/s eta 0:00:04\n",
      "   ------------------------------------ --- 137.4/150.0 MB 4.1 MB/s eta 0:00:04\n",
      "   ------------------------------------ --- 137.4/150.0 MB 4.1 MB/s eta 0:00:04\n",
      "   ------------------------------------ --- 137.4/150.0 MB 4.1 MB/s eta 0:00:04\n",
      "   ------------------------------------- -- 138.9/150.0 MB 3.9 MB/s eta 0:00:03\n",
      "   ------------------------------------- -- 141.8/150.0 MB 3.9 MB/s eta 0:00:03\n",
      "   -------------------------------------- - 143.4/150.0 MB 4.0 MB/s eta 0:00:02\n",
      "   -------------------------------------- - 144.7/150.0 MB 4.0 MB/s eta 0:00:02\n",
      "   -------------------------------------- - 146.0/150.0 MB 4.0 MB/s eta 0:00:01\n",
      "   ---------------------------------------  146.8/150.0 MB 4.0 MB/s eta 0:00:01\n",
      "   ---------------------------------------  148.4/150.0 MB 4.0 MB/s eta 0:00:01\n",
      "   ---------------------------------------  148.6/150.0 MB 4.0 MB/s eta 0:00:01\n",
      "   ---------------------------------------  149.4/150.0 MB 3.9 MB/s eta 0:00:01\n",
      "   ---------------------------------------- 150.0/150.0 MB 3.9 MB/s eta 0:00:00\n",
      "Installing collected packages: xgboost\n",
      "Successfully installed xgboost-3.0.2\n"
     ]
    }
   ],
   "source": [
    "pip install xgboost"
   ]
  },
  {
   "cell_type": "code",
   "execution_count": 15,
   "metadata": {
    "colab": {
     "base_uri": "https://localhost:8080/",
     "height": 136
    },
    "colab_type": "code",
    "id": "-ZOVbG7xdah6",
    "outputId": "1b867ce2-ebc5-4637-903e-2521471fa750"
   },
   "outputs": [
    {
     "data": {
      "text/html": [
       "<style>#sk-container-id-1 {\n",
       "  /* Definition of color scheme common for light and dark mode */\n",
       "  --sklearn-color-text: black;\n",
       "  --sklearn-color-line: gray;\n",
       "  /* Definition of color scheme for unfitted estimators */\n",
       "  --sklearn-color-unfitted-level-0: #fff5e6;\n",
       "  --sklearn-color-unfitted-level-1: #f6e4d2;\n",
       "  --sklearn-color-unfitted-level-2: #ffe0b3;\n",
       "  --sklearn-color-unfitted-level-3: chocolate;\n",
       "  /* Definition of color scheme for fitted estimators */\n",
       "  --sklearn-color-fitted-level-0: #f0f8ff;\n",
       "  --sklearn-color-fitted-level-1: #d4ebff;\n",
       "  --sklearn-color-fitted-level-2: #b3dbfd;\n",
       "  --sklearn-color-fitted-level-3: cornflowerblue;\n",
       "\n",
       "  /* Specific color for light theme */\n",
       "  --sklearn-color-text-on-default-background: var(--sg-text-color, var(--theme-code-foreground, var(--jp-content-font-color1, black)));\n",
       "  --sklearn-color-background: var(--sg-background-color, var(--theme-background, var(--jp-layout-color0, white)));\n",
       "  --sklearn-color-border-box: var(--sg-text-color, var(--theme-code-foreground, var(--jp-content-font-color1, black)));\n",
       "  --sklearn-color-icon: #696969;\n",
       "\n",
       "  @media (prefers-color-scheme: dark) {\n",
       "    /* Redefinition of color scheme for dark theme */\n",
       "    --sklearn-color-text-on-default-background: var(--sg-text-color, var(--theme-code-foreground, var(--jp-content-font-color1, white)));\n",
       "    --sklearn-color-background: var(--sg-background-color, var(--theme-background, var(--jp-layout-color0, #111)));\n",
       "    --sklearn-color-border-box: var(--sg-text-color, var(--theme-code-foreground, var(--jp-content-font-color1, white)));\n",
       "    --sklearn-color-icon: #878787;\n",
       "  }\n",
       "}\n",
       "\n",
       "#sk-container-id-1 {\n",
       "  color: var(--sklearn-color-text);\n",
       "}\n",
       "\n",
       "#sk-container-id-1 pre {\n",
       "  padding: 0;\n",
       "}\n",
       "\n",
       "#sk-container-id-1 input.sk-hidden--visually {\n",
       "  border: 0;\n",
       "  clip: rect(1px 1px 1px 1px);\n",
       "  clip: rect(1px, 1px, 1px, 1px);\n",
       "  height: 1px;\n",
       "  margin: -1px;\n",
       "  overflow: hidden;\n",
       "  padding: 0;\n",
       "  position: absolute;\n",
       "  width: 1px;\n",
       "}\n",
       "\n",
       "#sk-container-id-1 div.sk-dashed-wrapped {\n",
       "  border: 1px dashed var(--sklearn-color-line);\n",
       "  margin: 0 0.4em 0.5em 0.4em;\n",
       "  box-sizing: border-box;\n",
       "  padding-bottom: 0.4em;\n",
       "  background-color: var(--sklearn-color-background);\n",
       "}\n",
       "\n",
       "#sk-container-id-1 div.sk-container {\n",
       "  /* jupyter's `normalize.less` sets `[hidden] { display: none; }`\n",
       "     but bootstrap.min.css set `[hidden] { display: none !important; }`\n",
       "     so we also need the `!important` here to be able to override the\n",
       "     default hidden behavior on the sphinx rendered scikit-learn.org.\n",
       "     See: https://github.com/scikit-learn/scikit-learn/issues/21755 */\n",
       "  display: inline-block !important;\n",
       "  position: relative;\n",
       "}\n",
       "\n",
       "#sk-container-id-1 div.sk-text-repr-fallback {\n",
       "  display: none;\n",
       "}\n",
       "\n",
       "div.sk-parallel-item,\n",
       "div.sk-serial,\n",
       "div.sk-item {\n",
       "  /* draw centered vertical line to link estimators */\n",
       "  background-image: linear-gradient(var(--sklearn-color-text-on-default-background), var(--sklearn-color-text-on-default-background));\n",
       "  background-size: 2px 100%;\n",
       "  background-repeat: no-repeat;\n",
       "  background-position: center center;\n",
       "}\n",
       "\n",
       "/* Parallel-specific style estimator block */\n",
       "\n",
       "#sk-container-id-1 div.sk-parallel-item::after {\n",
       "  content: \"\";\n",
       "  width: 100%;\n",
       "  border-bottom: 2px solid var(--sklearn-color-text-on-default-background);\n",
       "  flex-grow: 1;\n",
       "}\n",
       "\n",
       "#sk-container-id-1 div.sk-parallel {\n",
       "  display: flex;\n",
       "  align-items: stretch;\n",
       "  justify-content: center;\n",
       "  background-color: var(--sklearn-color-background);\n",
       "  position: relative;\n",
       "}\n",
       "\n",
       "#sk-container-id-1 div.sk-parallel-item {\n",
       "  display: flex;\n",
       "  flex-direction: column;\n",
       "}\n",
       "\n",
       "#sk-container-id-1 div.sk-parallel-item:first-child::after {\n",
       "  align-self: flex-end;\n",
       "  width: 50%;\n",
       "}\n",
       "\n",
       "#sk-container-id-1 div.sk-parallel-item:last-child::after {\n",
       "  align-self: flex-start;\n",
       "  width: 50%;\n",
       "}\n",
       "\n",
       "#sk-container-id-1 div.sk-parallel-item:only-child::after {\n",
       "  width: 0;\n",
       "}\n",
       "\n",
       "/* Serial-specific style estimator block */\n",
       "\n",
       "#sk-container-id-1 div.sk-serial {\n",
       "  display: flex;\n",
       "  flex-direction: column;\n",
       "  align-items: center;\n",
       "  background-color: var(--sklearn-color-background);\n",
       "  padding-right: 1em;\n",
       "  padding-left: 1em;\n",
       "}\n",
       "\n",
       "\n",
       "/* Toggleable style: style used for estimator/Pipeline/ColumnTransformer box that is\n",
       "clickable and can be expanded/collapsed.\n",
       "- Pipeline and ColumnTransformer use this feature and define the default style\n",
       "- Estimators will overwrite some part of the style using the `sk-estimator` class\n",
       "*/\n",
       "\n",
       "/* Pipeline and ColumnTransformer style (default) */\n",
       "\n",
       "#sk-container-id-1 div.sk-toggleable {\n",
       "  /* Default theme specific background. It is overwritten whether we have a\n",
       "  specific estimator or a Pipeline/ColumnTransformer */\n",
       "  background-color: var(--sklearn-color-background);\n",
       "}\n",
       "\n",
       "/* Toggleable label */\n",
       "#sk-container-id-1 label.sk-toggleable__label {\n",
       "  cursor: pointer;\n",
       "  display: block;\n",
       "  width: 100%;\n",
       "  margin-bottom: 0;\n",
       "  padding: 0.5em;\n",
       "  box-sizing: border-box;\n",
       "  text-align: center;\n",
       "}\n",
       "\n",
       "#sk-container-id-1 label.sk-toggleable__label-arrow:before {\n",
       "  /* Arrow on the left of the label */\n",
       "  content: \"▸\";\n",
       "  float: left;\n",
       "  margin-right: 0.25em;\n",
       "  color: var(--sklearn-color-icon);\n",
       "}\n",
       "\n",
       "#sk-container-id-1 label.sk-toggleable__label-arrow:hover:before {\n",
       "  color: var(--sklearn-color-text);\n",
       "}\n",
       "\n",
       "/* Toggleable content - dropdown */\n",
       "\n",
       "#sk-container-id-1 div.sk-toggleable__content {\n",
       "  max-height: 0;\n",
       "  max-width: 0;\n",
       "  overflow: hidden;\n",
       "  text-align: left;\n",
       "  /* unfitted */\n",
       "  background-color: var(--sklearn-color-unfitted-level-0);\n",
       "}\n",
       "\n",
       "#sk-container-id-1 div.sk-toggleable__content.fitted {\n",
       "  /* fitted */\n",
       "  background-color: var(--sklearn-color-fitted-level-0);\n",
       "}\n",
       "\n",
       "#sk-container-id-1 div.sk-toggleable__content pre {\n",
       "  margin: 0.2em;\n",
       "  border-radius: 0.25em;\n",
       "  color: var(--sklearn-color-text);\n",
       "  /* unfitted */\n",
       "  background-color: var(--sklearn-color-unfitted-level-0);\n",
       "}\n",
       "\n",
       "#sk-container-id-1 div.sk-toggleable__content.fitted pre {\n",
       "  /* unfitted */\n",
       "  background-color: var(--sklearn-color-fitted-level-0);\n",
       "}\n",
       "\n",
       "#sk-container-id-1 input.sk-toggleable__control:checked~div.sk-toggleable__content {\n",
       "  /* Expand drop-down */\n",
       "  max-height: 200px;\n",
       "  max-width: 100%;\n",
       "  overflow: auto;\n",
       "}\n",
       "\n",
       "#sk-container-id-1 input.sk-toggleable__control:checked~label.sk-toggleable__label-arrow:before {\n",
       "  content: \"▾\";\n",
       "}\n",
       "\n",
       "/* Pipeline/ColumnTransformer-specific style */\n",
       "\n",
       "#sk-container-id-1 div.sk-label input.sk-toggleable__control:checked~label.sk-toggleable__label {\n",
       "  color: var(--sklearn-color-text);\n",
       "  background-color: var(--sklearn-color-unfitted-level-2);\n",
       "}\n",
       "\n",
       "#sk-container-id-1 div.sk-label.fitted input.sk-toggleable__control:checked~label.sk-toggleable__label {\n",
       "  background-color: var(--sklearn-color-fitted-level-2);\n",
       "}\n",
       "\n",
       "/* Estimator-specific style */\n",
       "\n",
       "/* Colorize estimator box */\n",
       "#sk-container-id-1 div.sk-estimator input.sk-toggleable__control:checked~label.sk-toggleable__label {\n",
       "  /* unfitted */\n",
       "  background-color: var(--sklearn-color-unfitted-level-2);\n",
       "}\n",
       "\n",
       "#sk-container-id-1 div.sk-estimator.fitted input.sk-toggleable__control:checked~label.sk-toggleable__label {\n",
       "  /* fitted */\n",
       "  background-color: var(--sklearn-color-fitted-level-2);\n",
       "}\n",
       "\n",
       "#sk-container-id-1 div.sk-label label.sk-toggleable__label,\n",
       "#sk-container-id-1 div.sk-label label {\n",
       "  /* The background is the default theme color */\n",
       "  color: var(--sklearn-color-text-on-default-background);\n",
       "}\n",
       "\n",
       "/* On hover, darken the color of the background */\n",
       "#sk-container-id-1 div.sk-label:hover label.sk-toggleable__label {\n",
       "  color: var(--sklearn-color-text);\n",
       "  background-color: var(--sklearn-color-unfitted-level-2);\n",
       "}\n",
       "\n",
       "/* Label box, darken color on hover, fitted */\n",
       "#sk-container-id-1 div.sk-label.fitted:hover label.sk-toggleable__label.fitted {\n",
       "  color: var(--sklearn-color-text);\n",
       "  background-color: var(--sklearn-color-fitted-level-2);\n",
       "}\n",
       "\n",
       "/* Estimator label */\n",
       "\n",
       "#sk-container-id-1 div.sk-label label {\n",
       "  font-family: monospace;\n",
       "  font-weight: bold;\n",
       "  display: inline-block;\n",
       "  line-height: 1.2em;\n",
       "}\n",
       "\n",
       "#sk-container-id-1 div.sk-label-container {\n",
       "  text-align: center;\n",
       "}\n",
       "\n",
       "/* Estimator-specific */\n",
       "#sk-container-id-1 div.sk-estimator {\n",
       "  font-family: monospace;\n",
       "  border: 1px dotted var(--sklearn-color-border-box);\n",
       "  border-radius: 0.25em;\n",
       "  box-sizing: border-box;\n",
       "  margin-bottom: 0.5em;\n",
       "  /* unfitted */\n",
       "  background-color: var(--sklearn-color-unfitted-level-0);\n",
       "}\n",
       "\n",
       "#sk-container-id-1 div.sk-estimator.fitted {\n",
       "  /* fitted */\n",
       "  background-color: var(--sklearn-color-fitted-level-0);\n",
       "}\n",
       "\n",
       "/* on hover */\n",
       "#sk-container-id-1 div.sk-estimator:hover {\n",
       "  /* unfitted */\n",
       "  background-color: var(--sklearn-color-unfitted-level-2);\n",
       "}\n",
       "\n",
       "#sk-container-id-1 div.sk-estimator.fitted:hover {\n",
       "  /* fitted */\n",
       "  background-color: var(--sklearn-color-fitted-level-2);\n",
       "}\n",
       "\n",
       "/* Specification for estimator info (e.g. \"i\" and \"?\") */\n",
       "\n",
       "/* Common style for \"i\" and \"?\" */\n",
       "\n",
       ".sk-estimator-doc-link,\n",
       "a:link.sk-estimator-doc-link,\n",
       "a:visited.sk-estimator-doc-link {\n",
       "  float: right;\n",
       "  font-size: smaller;\n",
       "  line-height: 1em;\n",
       "  font-family: monospace;\n",
       "  background-color: var(--sklearn-color-background);\n",
       "  border-radius: 1em;\n",
       "  height: 1em;\n",
       "  width: 1em;\n",
       "  text-decoration: none !important;\n",
       "  margin-left: 1ex;\n",
       "  /* unfitted */\n",
       "  border: var(--sklearn-color-unfitted-level-1) 1pt solid;\n",
       "  color: var(--sklearn-color-unfitted-level-1);\n",
       "}\n",
       "\n",
       ".sk-estimator-doc-link.fitted,\n",
       "a:link.sk-estimator-doc-link.fitted,\n",
       "a:visited.sk-estimator-doc-link.fitted {\n",
       "  /* fitted */\n",
       "  border: var(--sklearn-color-fitted-level-1) 1pt solid;\n",
       "  color: var(--sklearn-color-fitted-level-1);\n",
       "}\n",
       "\n",
       "/* On hover */\n",
       "div.sk-estimator:hover .sk-estimator-doc-link:hover,\n",
       ".sk-estimator-doc-link:hover,\n",
       "div.sk-label-container:hover .sk-estimator-doc-link:hover,\n",
       ".sk-estimator-doc-link:hover {\n",
       "  /* unfitted */\n",
       "  background-color: var(--sklearn-color-unfitted-level-3);\n",
       "  color: var(--sklearn-color-background);\n",
       "  text-decoration: none;\n",
       "}\n",
       "\n",
       "div.sk-estimator.fitted:hover .sk-estimator-doc-link.fitted:hover,\n",
       ".sk-estimator-doc-link.fitted:hover,\n",
       "div.sk-label-container:hover .sk-estimator-doc-link.fitted:hover,\n",
       ".sk-estimator-doc-link.fitted:hover {\n",
       "  /* fitted */\n",
       "  background-color: var(--sklearn-color-fitted-level-3);\n",
       "  color: var(--sklearn-color-background);\n",
       "  text-decoration: none;\n",
       "}\n",
       "\n",
       "/* Span, style for the box shown on hovering the info icon */\n",
       ".sk-estimator-doc-link span {\n",
       "  display: none;\n",
       "  z-index: 9999;\n",
       "  position: relative;\n",
       "  font-weight: normal;\n",
       "  right: .2ex;\n",
       "  padding: .5ex;\n",
       "  margin: .5ex;\n",
       "  width: min-content;\n",
       "  min-width: 20ex;\n",
       "  max-width: 50ex;\n",
       "  color: var(--sklearn-color-text);\n",
       "  box-shadow: 2pt 2pt 4pt #999;\n",
       "  /* unfitted */\n",
       "  background: var(--sklearn-color-unfitted-level-0);\n",
       "  border: .5pt solid var(--sklearn-color-unfitted-level-3);\n",
       "}\n",
       "\n",
       ".sk-estimator-doc-link.fitted span {\n",
       "  /* fitted */\n",
       "  background: var(--sklearn-color-fitted-level-0);\n",
       "  border: var(--sklearn-color-fitted-level-3);\n",
       "}\n",
       "\n",
       ".sk-estimator-doc-link:hover span {\n",
       "  display: block;\n",
       "}\n",
       "\n",
       "/* \"?\"-specific style due to the `<a>` HTML tag */\n",
       "\n",
       "#sk-container-id-1 a.estimator_doc_link {\n",
       "  float: right;\n",
       "  font-size: 1rem;\n",
       "  line-height: 1em;\n",
       "  font-family: monospace;\n",
       "  background-color: var(--sklearn-color-background);\n",
       "  border-radius: 1rem;\n",
       "  height: 1rem;\n",
       "  width: 1rem;\n",
       "  text-decoration: none;\n",
       "  /* unfitted */\n",
       "  color: var(--sklearn-color-unfitted-level-1);\n",
       "  border: var(--sklearn-color-unfitted-level-1) 1pt solid;\n",
       "}\n",
       "\n",
       "#sk-container-id-1 a.estimator_doc_link.fitted {\n",
       "  /* fitted */\n",
       "  border: var(--sklearn-color-fitted-level-1) 1pt solid;\n",
       "  color: var(--sklearn-color-fitted-level-1);\n",
       "}\n",
       "\n",
       "/* On hover */\n",
       "#sk-container-id-1 a.estimator_doc_link:hover {\n",
       "  /* unfitted */\n",
       "  background-color: var(--sklearn-color-unfitted-level-3);\n",
       "  color: var(--sklearn-color-background);\n",
       "  text-decoration: none;\n",
       "}\n",
       "\n",
       "#sk-container-id-1 a.estimator_doc_link.fitted:hover {\n",
       "  /* fitted */\n",
       "  background-color: var(--sklearn-color-fitted-level-3);\n",
       "}\n",
       "</style><div id=\"sk-container-id-1\" class=\"sk-top-container\"><div class=\"sk-text-repr-fallback\"><pre>XGBClassifier(base_score=None, booster=None, callbacks=None,\n",
       "              colsample_bylevel=None, colsample_bynode=None,\n",
       "              colsample_bytree=None, device=None, early_stopping_rounds=None,\n",
       "              enable_categorical=False, eval_metric=None, feature_types=None,\n",
       "              feature_weights=None, gamma=None, grow_policy=None,\n",
       "              importance_type=None, interaction_constraints=None,\n",
       "              learning_rate=None, max_bin=None, max_cat_threshold=None,\n",
       "              max_cat_to_onehot=None, max_delta_step=None, max_depth=None,\n",
       "              max_leaves=None, min_child_weight=None, missing=nan,\n",
       "              monotone_constraints=None, multi_strategy=None, n_estimators=None,\n",
       "              n_jobs=None, num_parallel_tree=None, ...)</pre><b>In a Jupyter environment, please rerun this cell to show the HTML representation or trust the notebook. <br />On GitHub, the HTML representation is unable to render, please try loading this page with nbviewer.org.</b></div><div class=\"sk-container\" hidden><div class=\"sk-item\"><div class=\"sk-estimator fitted sk-toggleable\"><input class=\"sk-toggleable__control sk-hidden--visually\" id=\"sk-estimator-id-1\" type=\"checkbox\" checked><label for=\"sk-estimator-id-1\" class=\"sk-toggleable__label fitted sk-toggleable__label-arrow fitted\">&nbsp;&nbsp;XGBClassifier<a class=\"sk-estimator-doc-link fitted\" rel=\"noreferrer\" target=\"_blank\" href=\"https://xgboost.readthedocs.io/en/release_3.0.0/python/python_api.html#xgboost.XGBClassifier\">?<span>Documentation for XGBClassifier</span></a><span class=\"sk-estimator-doc-link fitted\">i<span>Fitted</span></span></label><div class=\"sk-toggleable__content fitted\"><pre>XGBClassifier(base_score=None, booster=None, callbacks=None,\n",
       "              colsample_bylevel=None, colsample_bynode=None,\n",
       "              colsample_bytree=None, device=None, early_stopping_rounds=None,\n",
       "              enable_categorical=False, eval_metric=None, feature_types=None,\n",
       "              feature_weights=None, gamma=None, grow_policy=None,\n",
       "              importance_type=None, interaction_constraints=None,\n",
       "              learning_rate=None, max_bin=None, max_cat_threshold=None,\n",
       "              max_cat_to_onehot=None, max_delta_step=None, max_depth=None,\n",
       "              max_leaves=None, min_child_weight=None, missing=nan,\n",
       "              monotone_constraints=None, multi_strategy=None, n_estimators=None,\n",
       "              n_jobs=None, num_parallel_tree=None, ...)</pre></div> </div></div></div></div>"
      ],
      "text/plain": [
       "XGBClassifier(base_score=None, booster=None, callbacks=None,\n",
       "              colsample_bylevel=None, colsample_bynode=None,\n",
       "              colsample_bytree=None, device=None, early_stopping_rounds=None,\n",
       "              enable_categorical=False, eval_metric=None, feature_types=None,\n",
       "              feature_weights=None, gamma=None, grow_policy=None,\n",
       "              importance_type=None, interaction_constraints=None,\n",
       "              learning_rate=None, max_bin=None, max_cat_threshold=None,\n",
       "              max_cat_to_onehot=None, max_delta_step=None, max_depth=None,\n",
       "              max_leaves=None, min_child_weight=None, missing=nan,\n",
       "              monotone_constraints=None, multi_strategy=None, n_estimators=None,\n",
       "              n_jobs=None, num_parallel_tree=None, ...)"
      ]
     },
     "execution_count": 15,
     "metadata": {},
     "output_type": "execute_result"
    }
   ],
   "source": [
    "from xgboost import XGBClassifier\n",
    "classifier=XGBClassifier()\n",
    "classifier.fit(X_train,Y_train)"
   ]
  },
  {
   "cell_type": "code",
   "execution_count": 16,
   "metadata": {
    "colab": {
     "base_uri": "https://localhost:8080/",
     "height": 68
    },
    "colab_type": "code",
    "id": "9ClZtr7GeNnB",
    "outputId": "8db08278-d2af-45c1-ae76-693586ba7161"
   },
   "outputs": [
    {
     "name": "stdout",
     "output_type": "stream",
     "text": [
      "[[4567  351]\n",
      " [ 534 1061]]\n"
     ]
    },
    {
     "data": {
      "text/plain": [
       "0.8641179180101336"
      ]
     },
     "execution_count": 16,
     "metadata": {},
     "output_type": "execute_result"
    }
   ],
   "source": [
    "from sklearn.metrics import confusion_matrix,accuracy_score\n",
    "y_pred=classifier.predict(X_test)\n",
    "cm=confusion_matrix(Y_test,y_pred)\n",
    "print(cm)\n",
    "accuracy_score(Y_test,y_pred)"
   ]
  },
  {
   "cell_type": "code",
   "execution_count": 17,
   "metadata": {
    "colab": {
     "base_uri": "https://localhost:8080/",
     "height": 34
    },
    "colab_type": "code",
    "id": "wMVJ8NiUlzM5",
    "outputId": "d03c6d9d-d496-49e7-c454-60741a5f38e1"
   },
   "outputs": [
    {
     "name": "stdout",
     "output_type": "stream",
     "text": [
      "[0 0 0 ... 1 0 1]\n"
     ]
    }
   ],
   "source": [
    "print(y_pred)"
   ]
  },
  {
   "cell_type": "code",
   "execution_count": 18,
   "metadata": {
    "colab": {
     "base_uri": "https://localhost:8080/",
     "height": 34
    },
    "colab_type": "code",
    "id": "MduJO32rhSFR",
    "outputId": "8ad2ae47-68b1-4546-a0f5-98f7cf0efb89"
   },
   "outputs": [
    {
     "name": "stdout",
     "output_type": "stream",
     "text": [
      "Accuracy: 87.00 Standard Deviation: 0.72\n"
     ]
    }
   ],
   "source": [
    "from sklearn.model_selection import cross_val_score\n",
    "accuracies=cross_val_score(estimator=classifier,X=X_train,y=Y_train,cv=10)\n",
    "print('Accuracy: {:.2f} Standard Deviation: {:.2f}'.format(accuracies.mean()*100,accuracies.std()*100))"
   ]
  },
  {
   "cell_type": "code",
   "execution_count": 19,
   "metadata": {
    "colab": {
     "base_uri": "https://localhost:8080/",
     "height": 136
    },
    "colab_type": "code",
    "id": "KpFFRZzrlKVJ",
    "outputId": "5986844e-1a92-44bc-c122-ceeda10a9802"
   },
   "outputs": [
    {
     "name": "stdout",
     "output_type": "stream",
     "text": [
      "[[0 0]\n",
      " [0 0]\n",
      " [0 0]\n",
      " ...\n",
      " [1 1]\n",
      " [0 0]\n",
      " [1 1]]\n"
     ]
    }
   ],
   "source": [
    "print(np.concatenate((y_pred.reshape(len(y_pred),1),Y_test.reshape(len(Y_test),1)),1))"
   ]
  },
  {
   "cell_type": "markdown",
   "metadata": {
    "colab_type": "text",
    "id": "cyosT_qEnVeK"
   },
   "source": [
    "### Single Prediction\n",
    "age=40, workclass=private, employ_inc=80000, \n",
    "bachelor,9,divorced, Exec-managerial,Husband,\n",
    "white,male,0,1000,50,united-state"
   ]
  },
  {
   "cell_type": "code",
   "execution_count": 20,
   "metadata": {
    "colab": {
     "base_uri": "https://localhost:8080/",
     "height": 34
    },
    "colab_type": "code",
    "id": "mxjP3XAUnVsA",
    "outputId": "093b60cd-367b-420f-da7c-d2954bd1d5a5"
   },
   "outputs": [
    {
     "name": "stdout",
     "output_type": "stream",
     "text": [
      "Person makes Below 50K/year\n"
     ]
    }
   ],
   "source": [
    "result=classifier.predict(sc.transform([[40,4,80000,9,9,0,4,0,4,1,0,1000,50,39]]))\n",
    "if result==[0]:\n",
    "  print('Person makes Below 50K/year')\n",
    "else:\n",
    "  print('Person makes Above 50K/year')"
   ]
  },
  {
   "cell_type": "code",
   "execution_count": null,
   "metadata": {},
   "outputs": [],
   "source": []
  }
 ],
 "metadata": {
  "colab": {
   "name": "Untitled1.ipynb",
   "provenance": [],
   "toc_visible": true
  },
  "kernelspec": {
   "display_name": "Python 3 (ipykernel)",
   "language": "python",
   "name": "python3"
  },
  "language_info": {
   "codemirror_mode": {
    "name": "ipython",
    "version": 3
   },
   "file_extension": ".py",
   "mimetype": "text/x-python",
   "name": "python",
   "nbconvert_exporter": "python",
   "pygments_lexer": "ipython3",
   "version": "3.12.1"
  }
 },
 "nbformat": 4,
 "nbformat_minor": 4
}
